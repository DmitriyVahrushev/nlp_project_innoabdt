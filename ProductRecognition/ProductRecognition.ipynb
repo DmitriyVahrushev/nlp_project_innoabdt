{
 "cells": [
  {
   "cell_type": "code",
   "execution_count": 1,
   "metadata": {},
   "outputs": [],
   "source": [
    "import numpy as np\n",
    "import pandas as pd\n",
    "from nltk.tokenize import RegexpTokenizer\n",
    "from string import punctuation\n",
    "from pymystem3 import Mystem\n",
    "from natasha import DatesExtractor, MoneyExtractor\n",
    "from extractor import NumberExtractor\n",
    "from NER_filters import (NER_filter_percents, NER_filter_time_periods,\n",
    "                         NER_monetary_amounts, NER_filter_month_year, NER_filter_currency)\n",
    "\n",
    "\n",
    "tokenizer = RegexpTokenizer(r\"[а-яёa-z0-9]+\")\n",
    "\n",
    "stemmer_mystem = Mystem()\n",
    "datesextractor = DatesExtractor()\n",
    "moneyextractor = MoneyExtractor()\n",
    "numberextractor = NumberExtractor()\n",
    "\n",
    "\n",
    "#Типы продуктов и вопросы для уточнения:\n",
    "product_types_info = pd.read_csv('product_types.csv', sep=';')\n",
    "# ключевые описания продуктов:\n",
    "products_info = pd.read_csv('products.csv', sep=';')\n",
    "product_types = product_types_info['product_type'].values\n",
    "product_types = product_types[:-1] #  кроме not recognized\n",
    "\n",
    "specify_questions_list = product_types_info.values\n",
    "specify_questions = {product[0]:product[1] for product in specify_questions_list}\n",
    "\n",
    "\n",
    "# #Пример входного словаря d:\n",
    "\n",
    "# d = dict({'text':'Хочу узнать статус черной карты с котиком',\n",
    "#          'Evolution':['01.01.2021'],\n",
    "#          'Premium':['01.01.2021'],\n",
    "#          'Кредит на личное подсобное хозяйство':['5000000 р', '180 мес', '10000 р'],\n",
    "#          'Ипотека на Вторичное жилье':['5000000 руб', '180 мес', '10000 руб'],\n",
    "#          'Ипотека на Дом и земельный участок':['5000000 долл', '180 мес', '10000 долл']})  \n",
    "\n",
    "# #Запуск:\n",
    "# trigger(d)   \n",
    "\n",
    "# #Возвращает тот же словарь с доп полем target:\n",
    "# {'text': 'Хочу узнать статус черной карты с котиком',\n",
    "#  'Evolution': ['01.01.2021'],\n",
    "#  'Premium': ['01.01.2021'],\n",
    "#  'Кредит на личное подсобное хозяйство': ['5000000 р', '180 мес', '10000 р'],\n",
    "#  'Ипотека на Вторичное жилье': ['5000000 руб', '180 мес', '10000 руб'],\n",
    "#  'Ипотека на Дом и земельный участок': ['5000000 долл',\n",
    "#   '180 мес',\n",
    "#   '10000 долл'],\n",
    "#  'target': 'Evolution'}\n",
    "\n",
    "\n",
    "# #Пример словаря с полным перечнем продуктов\n",
    "# d = dict({'text':'Хочу узнать статус черной карты с котиком',\n",
    "#          'Aurum':['01.01.2021'],\n",
    "#          'Generation':['01.01.2021'],\n",
    "#          'Evolution':['01.01.2021'],\n",
    "#          'Premium':['01.01.2021'],\n",
    "#          'Mir':['01.01.2021'],\n",
    "#          'Emotion':['01.01.2021'],\n",
    "#          'Кредит наличными':['5000000 долл', '180 мес', '10000 долл'],\n",
    "#          'Кредит под залог недвижимости':['5000000 евро', '180 мес', '10000 евро'],\n",
    "#          'Кредит (Рефинансирование)':['5000000 руб', '180 мес', '10000 руб'],\n",
    "#          'Кредит на личное подсобное хозяйство':['5000000 р', '180 мес', '10000 р'],\n",
    "#          'Ипотека на Вторичное жилье':['5000000 руб', '180 мес', '10000 руб'],\n",
    "#          'Ипотека на Новостройки с господдержкой':['5000000 руб', '180 мес', '10000 руб'],\n",
    "#          'Ипотека на Новостройки':['5000000 руб', '180 мес', '10000 руб'],\n",
    "#          'Рефинансирование ипотеки':['5000000 руб', '180 мес', '10000 руб'],\n",
    "#          'Ипотека Господдержка для семей с детьми':['5000000 руб', '180 мес', '10000 руб'],\n",
    "#          'Ипотека на Коммерческую недвижимость':['5000000 руб', '180 мес', '10000 руб'],\n",
    "#          'Ипотека на Дом и земельный участок':['5000000 руб', '180 мес', '10000 руб']})\n",
    "\n",
    "#Формат в точности как в примере: \n",
    "# даты через точки, \n",
    "# сроки в месяцах (через \"мес\"), \n",
    "# валюты можно как в кратком (р, руб, долл), так и в полном формате (рублей, долларов)\n",
    "\n",
    "\n",
    "def filter_text(text, tokenizer = tokenizer, stemmer_mystem = stemmer_mystem):\n",
    "    text = str(text)\n",
    "    tokens = tokenizer.tokenize(text.lower())\n",
    "    tokens = stemmer_mystem.lemmatize(\" \".join(tokens))\n",
    "    tokens = [token for token in tokens if token != \" \"\n",
    "              and token.strip() not in punctuation]\n",
    "    return \" \".join(tokens)\n",
    "\n",
    "\n",
    "def find_product_by_description(d, lst_cards,lst_indexes,products_names,specify_question):\n",
    "#если дата открытия вклада не указана (или не удалось отсканировать) - ищем по описаниям\n",
    "    dd=[]\n",
    "    if len(lst_indexes) == 1:#если нашелся один продукт по описанию\n",
    "        product_name = products_names[lst_indexes[0]]#определяем название\n",
    "        if product_name in d:#если такой продукт есть у клиента\n",
    "            d['target'] = product_name\n",
    "            return d\n",
    "        else:\n",
    "            d['target']=specify_question #запрашиваем доп инфу\n",
    "            return d\n",
    "\n",
    "    elif len(lst_indexes)>1: #если нашлось несколько продуктов по описанию\n",
    "        lsss = [len(i) for i in lst_cards] #определяем число ключевых слов для каждого продукта\n",
    "        card_indexes = [i for i, j in enumerate(lsss) if j == max(lsss)] #определяем продукт с макс числом ключевых слов\n",
    "        if len(card_indexes)==1:#если макс только у одной карты\n",
    "\n",
    "            product_name = products_names[card_indexes[0]]#определяем ее название\n",
    "            if product_name in d:#если такая карта есть у клиента\n",
    "                d['target'] = product_name#выдаем в таргет эту карту\n",
    "                return d\n",
    "            else:#если такой карты нет у клиента\n",
    "                d['target']=specify_question#запрашиваем доп инфу\n",
    "            return d\n",
    "        elif len(card_indexes)>1:#если макс у нескольких карт\n",
    "            whc =[j for j in [products_names[i] for i in card_indexes] if j in d]#определяем какая из карт есть у клиента\n",
    "            if len(whc)==1:#если у клиента есть одна такая карта\n",
    "                d['target'] = whc#выдаем в таргет эту карту\n",
    "                return d\n",
    "            else:#если у клиента несколько таких карт или таких карт нет\n",
    "                d['target']=specify_question#запрашиваем доп инфу\n",
    "                return d\n",
    "    else:\n",
    "        return dd\n",
    "\n",
    "\n",
    "\n",
    "def recognize_credit_parameters(d, dats, product_names, specify_question):\n",
    "    par1=[]\n",
    "    par1_names=[]\n",
    "    for j,i in enumerate(d.values()):#сканируем значения словаря\n",
    "        if list(d.keys())[j] in product_names:#если найденный продукт в списке продуктов\n",
    "            par2=[]\n",
    "            for ii in i:\n",
    "                #сканируем суммы\n",
    "                matches = moneyextractor(ii)\n",
    "                for match in matches:\n",
    "                    par2.append([match.fact.as_json['integer'],match.fact.as_json['currency']])\n",
    "                #сканируем сроки\n",
    "                textn = filter_text(ii)\n",
    "                lsst = textn.split()\n",
    "                ind_year = [ij for ij,s in enumerate(lsst) if s.isdigit()]\n",
    "                for ij in ind_year:\n",
    "                    try:\n",
    "                        if lsst[ij+1]=='мес':\n",
    "                            if len(lsst[ij])<=3:\n",
    "                                yearn = int(lsst[ij])\n",
    "                                par2.append(yearn)\n",
    "                                par1_names.append(list(d.keys())[j])\n",
    "                                break\n",
    "                    except IndexError:\n",
    "                        continue\n",
    "            par1.append(par2)\n",
    "\n",
    "    par1 = list(filter(None, par1)) #итоговый список кредитов клиента\n",
    "    #par1  =[[[200000, 'RUB'], 150, [10000, 'RUB']], [[200000, 'RUB'], 50, [10000, 'RUB']]]\n",
    "    print('Client products in dict recognized:',list(zip(par1,par1_names)))\n",
    "    if any(par1):#если у клиента есть кредиты\n",
    "        par2=[]#сопоставляем с кредитами, найденными в тексте\n",
    "        for w,k in enumerate(par1):\n",
    "            par3=[]\n",
    "            for i in k:\n",
    "                for j in dats:\n",
    "                    try:\n",
    "                        j=j[0]\n",
    "                        if j==i:\n",
    "                            par3.append(w)\n",
    "                    except:\n",
    "                        if j==i:\n",
    "                            par3.append(w)\n",
    "            par2.append(len(par3))#сколько совпадений по каждому кредиту\n",
    "        #par2 = [3, 2]\n",
    "        print('Lengths of common parameters:',list(zip(par2,par1_names)))\n",
    "        inss = [i for i, j in enumerate(par2) if j == max(par2)] #определяем кредит с макс числом совпадений\n",
    "        #inss = [0]\n",
    "\n",
    "        if len(inss)==1:\n",
    "            d['target'] = par1_names[inss[0]]#выдаем в таргет этот кредит\n",
    "            return d\n",
    "        elif len(inss)>1:#если макс у нескольких кредитов\n",
    "            d['target']=specify_question#запрашиваем доп инфу\n",
    "            return d\n",
    "    else:#если не удалось\n",
    "        d['target']=specify_questions['not recognized']#запрашиваем доп инфу\n",
    "        return d\n",
    "\n",
    "\n",
    "\n",
    "def recognize_card_parameters(d, dats, product_names, specify_question):\n",
    "    #сверяем со сроками всех карт клиента\n",
    "    par2=[]\n",
    "    for j,i in enumerate(d.values()):#сканируем значения словаря\n",
    "        matches = datesextractor(i[0])\n",
    "        par1=[]\n",
    "        for match in matches:\n",
    "            par1.append([match.fact.as_json['year'],match.fact.as_json['month']])\n",
    "        if par1:#если удалось распознать даты карт клиента (если они есть)\n",
    "            if len(par1[0]) == len(dats):#если есть совпадение по срокам\n",
    "                if par1[0] == dats:\n",
    "                    par2.append(j)\n",
    "            else:\n",
    "                if par1[0][0] == dats[0]:\n",
    "                    par2.append(j)\n",
    "    if par2:\n",
    "        if len(par2)==1:#если есть одно совпадение\n",
    "            d['target']=list(d.keys())[par2[0]] #нашлась карта с таким же сроком и она одна - выдаем ее в таргет\n",
    "            return d\n",
    "        else:#если совпадений несколько\n",
    "            d['target']=specify_question#запрашиваем доп инфу\n",
    "            return d\n",
    "    else:#если не удалось\n",
    "        d['target']=specify_question#запрашиваем доп инфу\n",
    "        return d\n",
    "\n",
    "\n",
    "\n",
    "def recognize_deposit_parameters(d, dats, product_names, specify_question):\n",
    "    #поиск кредитов клиента\n",
    "    par1=[]\n",
    "    par1_names=[]\n",
    "    for j,i in enumerate(d.values()):#сканируем значения словаря\n",
    "        if list(d.keys())[j] in product_names:#если найденный продукт в списке продуктов\n",
    "            par2=[]\n",
    "            for ii in i:\n",
    "                #поиск остатка на счете их валюты\n",
    "                matches = moneyextractor(ii)\n",
    "                for match in matches:\n",
    "                    par2.append([match.fact.as_json['integer'],match.fact.as_json['currency']])\n",
    "                percents = NER_filter_percents(ii)\n",
    "                for percent in percents:\n",
    "                    par2.append(percent)\n",
    "                par1_names.append(list(d.keys())[j])\n",
    "            par1.append(par2)\n",
    "\n",
    "    par1 = list(filter(None, par1)) #итоговый список вкладов клиента\n",
    "    #print(par1)\n",
    "    print('Client products in dict recognized:',list(zip(par1,par1_names)))\n",
    "    if any(par1):#если у клиента есть вклады\n",
    "        par2=[]#сопоставляем с вкладами, найденными в тексте\n",
    "        for w,k in enumerate(par1):\n",
    "            par3=[]\n",
    "            for i in k:\n",
    "                for j in dats:\n",
    "                    try:\n",
    "                        j=j[0]\n",
    "                        if j==i:\n",
    "                            par3.append(w)\n",
    "                    except:\n",
    "                        if j==i:\n",
    "                            par3.append(w)\n",
    "            par2.append(len(par3))#сколько совпадений по каждому вкладу\n",
    "        #par2 = [3, 2]\n",
    "        print('Lengths of common parameters:',list(zip(par2,par1_names)))\n",
    "        inss = [i for i, j in enumerate(par2) if j == max(par2)] #определяем вклад с макс числом совпадений\n",
    "        #inss = [0]\n",
    "\n",
    "        if len(inss)==1:\n",
    "            d['target'] = par1_names[inss[0]]#выдаем в таргет этот вклад\n",
    "            return d\n",
    "        elif len(inss)>1:#если макс у нескольких вкладов\n",
    "            d['target']=specify_question#запрашиваем доп инфу\n",
    "            return d\n",
    "\n",
    "    else:#если не удалось\n",
    "        d['target']=specify_questions['not recognized']#запрашиваем доп инфу\n",
    "        return d\n",
    "\n",
    "\n",
    "\n",
    "def recognize_account_parameters(d, dats, product_names, specify_question):\n",
    "    #поиск счетов клиента\n",
    "    par1=[]\n",
    "    par1_names=[]\n",
    "    for j,i in enumerate(d.values()):#сканируем значения словаря\n",
    "        if list(d.keys())[j] in product_names:#если найденный продукт в списке продуктов\n",
    "            par2=[]\n",
    "            for ii in i:\n",
    "                #поиск остатка на счете их валюты\n",
    "                matches = moneyextractor(ii)\n",
    "                for match in matches:\n",
    "                    par2.append([match.fact.as_json['integer'],match.fact.as_json['currency']])\n",
    "                #дата открытия счета\n",
    "                dates = datesextractor(ii)\n",
    "                for date in dates:\n",
    "                    par2.append([date.fact.as_json['year'],date.fact.as_json['month']])\n",
    "                #валюта\n",
    "                textn = filter_text(ii)\n",
    "                lsst = textn.split()\n",
    "                for l in lsst:\n",
    "                    if l in ['рубль','доллар','евро']:\n",
    "                        currency = l\n",
    "                        par2.append(currency)\n",
    "                        par1_names.append(list(d.keys())[j])\n",
    "                        break\n",
    "            par1.append(par2)\n",
    "\n",
    "    par1 = list(filter(None, par1)) #итоговый список счетов клиента\n",
    "    #print(par1)\n",
    "    print('Client products in dict recognized:',list(zip(par1,par1_names)))\n",
    "    if any(par1):#если у клиента есть счета\n",
    "        par2=[]#сопоставляем с счетами, найденными в тексте\n",
    "        for w,k in enumerate(par1):\n",
    "            par3=[]\n",
    "            for i in k:\n",
    "                for j in dats:\n",
    "                    try:\n",
    "                        j=j[0]\n",
    "                        if j==i:\n",
    "                            par3.append(w)\n",
    "                    except:\n",
    "                        if j==i:\n",
    "                            par3.append(w)\n",
    "            par2.append(len(par3))#сколько совпадений по каждому счету\n",
    "        #par2 = [3, 2]\n",
    "        print('Lengths of common parameters:',list(zip(par2,par1_names)))\n",
    "        inss = [i for i, j in enumerate(par2) if j == max(par2)] #определяем счет с макс числом совпадений\n",
    "        #inss = [0]\n",
    "\n",
    "        if len(inss)==1:\n",
    "            d['target'] = par1_names[inss[0]]#выдаем в таргет этот счет\n",
    "            return d\n",
    "        elif len(inss)>1:#если макс у нескольких кредитов\n",
    "            d['target']=specify_question#запрашиваем доп инфу\n",
    "            return d\n",
    "\n",
    "    else:#если не удалось\n",
    "        d['target']=specify_questions['not recognized']#запрашиваем доп инфу\n",
    "        return d\n",
    "\n",
    "\n",
    "\n",
    "def find_by_product_parameters(d,tokens,product_type,products_names,specify_question):\n",
    "    message_text = d['text']\n",
    "    if product_type == 'карта':\n",
    "        dats = NER_filter_month_year(message_text, tokens, datesextractor)\n",
    "        if any(dats):\n",
    "            dd = recognize_card_parameters(d, dats,products_names, specify_question)\n",
    "            if dd:\n",
    "                return dd\n",
    "        else:#если не удалось\n",
    "            return None\n",
    "    elif product_type == 'кредит' or product_type == 'ипотека':\n",
    "        credit_sum = NER_monetary_amounts(message_text, tokens, moneyextractor)\n",
    "        credit_term = NER_filter_time_periods(tokens)\n",
    "        dats = [credit_sum, credit_term]\n",
    "        if any(dats):\n",
    "            dd = recognize_credit_parameters(d, dats,products_names, specify_question)\n",
    "            if dd:\n",
    "                return dd\n",
    "        else:#если не удалось\n",
    "            return None\n",
    "    elif product_type == 'вклад':\n",
    "        percents = NER_filter_percents(tokens)\n",
    "        deposits_money = NER_monetary_amounts(message_text, tokens, moneyextractor)\n",
    "        dats = [percents, deposits_money]\n",
    "        if any(dats):\n",
    "            dd = recognize_deposit_parameters(d, dats,products_names, specify_question)\n",
    "            if dd:\n",
    "                return dd\n",
    "        else:#если не удалось\n",
    "            return None\n",
    "    elif product_type == 'счет':\n",
    "        account_money = NER_monetary_amounts(message_text, tokens, moneyextractor)\n",
    "        opening_date = NER_filter_month_year(message_text, tokens, datesextractor)\n",
    "        currency = NER_filter_currency(tokens)\n",
    "        dats = [account_money, opening_date, currency]\n",
    "        if any(dats):\n",
    "            dd = recognize_account_parameters(d, dats,products_names, specify_question)\n",
    "            if dd:\n",
    "                return dd\n",
    "        else:#если не удалось\n",
    "            return None\n",
    "\n",
    "\n",
    "\n",
    "def trigger(d):\n",
    "    if 'text' in d:\n",
    "        text = filter_text(d['text'])\n",
    "        textn = text.split()\n",
    "        #поиск по прямому вхождению\n",
    "        for product_type in product_types:\n",
    "            products = products_info[products_info['product_type'] == product_type]\n",
    "            for product in products.itertuples():\n",
    "                other_names = product.other_names.split(',')\n",
    "                if [other_name for other_name in other_names if other_name in text]:\n",
    "                    if product.product_name in d:\n",
    "                        d['target'] = product.product_name\n",
    "                        return d\n",
    "                    else:\n",
    "                        d['target'] = specify_questions[product_type]\n",
    "                        return d\n",
    "        #распознавание сущностей и соотнесение с параметрами продукта\n",
    "        for product_type in product_types:\n",
    "            products = products_info[products_info['product_type'] == product_type]\n",
    "            products_names = products['product_name'].values\n",
    "            dd = find_by_product_parameters(d,textn,product_type,products_names,specify_questions[product_type])\n",
    "            if dd:\n",
    "                return dd\n",
    "        #по ключевым словам\n",
    "        for product_type in product_types:\n",
    "            products = products_info[products_info['product_type'] == product_type]\n",
    "            keywords_by_product = []\n",
    "            for product in products.itertuples():\n",
    "                keywords = product.keywords.split(',')\n",
    "                keywords_in_text = [keyword for keyword in keywords if keyword in textn]\n",
    "                keywords_by_product.append(keywords_in_text)\n",
    "            lst_indexes = [product_index for product_index, encountered_keywords in enumerate(keywords_by_product) if encountered_keywords]\n",
    "            if lst_indexes:\n",
    "                products_names = products['product_name'].values\n",
    "                dd = find_product_by_description(d,keywords_by_product,lst_indexes,products_names,specify_questions[product_type])\n",
    "                if dd:\n",
    "                    return dd\n",
    "        d['target']=specify_questions['not recognized']\n",
    "        return d\n",
    "    else:\n",
    "        return []"
   ]
  },
  {
   "cell_type": "markdown",
   "metadata": {},
   "source": [
    "## Тесты:"
   ]
  },
  {
   "cell_type": "code",
   "execution_count": 2,
   "metadata": {},
   "outputs": [
    {
     "data": {
      "text/plain": [
       "{'text': 'Хочу узнать про свою ипотеку',\n",
       " 'Evolution': ['01.01.2021'],\n",
       " 'Premium': ['01.01.2021'],\n",
       " 'Кредит на личное подсобное хозяйство': ['5000000 р', '170 мес', '10000 р'],\n",
       " 'Ипотека на Вторичное жилье': ['5000000 руб', '180 мес', '10000 руб'],\n",
       " 'Ипотека на Дом и земельный участок': ['5000000 долл',\n",
       "  '170 мес',\n",
       "  '10000 долл'],\n",
       " 'target': 'Уточните, по какому ипотечному кредиту Вы хотите получить информацию?'}"
      ]
     },
     "execution_count": 2,
     "metadata": {},
     "output_type": "execute_result"
    }
   ],
   "source": [
    "d = dict({'text':'Хочу узнать про свою ипотеку',\n",
    "          'Evolution':['01.01.2021'],\n",
    "          'Premium':['01.01.2021'],\n",
    "          'Кредит на личное подсобное хозяйство':['5000000 р', '170 мес', '10000 р'],\n",
    "          'Ипотека на Вторичное жилье':['5000000 руб', '180 мес', '10000 руб'],\n",
    "          'Ипотека на Дом и земельный участок':['5000000 долл', '170 мес', '10000 долл']})\n",
    "trigger(d)"
   ]
  },
  {
   "cell_type": "code",
   "execution_count": 3,
   "metadata": {},
   "outputs": [
    {
     "data": {
      "text/plain": [
       "{'text': 'Не отображается сумма по вкладу',\n",
       " 'Evolution': ['01.01.2021'],\n",
       " 'Premium': ['01.01.2021'],\n",
       " 'Кредит на личное подсобное хозяйство': ['5000000 р', '180 мес', '10000 р'],\n",
       " 'Ипотека на Вторичное жилье': ['5000000 руб', '180 мес', '10000 руб'],\n",
       " 'Ипотека на Дом и земельный участок': ['5000000 долл',\n",
       "  '180 мес',\n",
       "  '10000 долл'],\n",
       " 'Просто накопить': ['5000000 руб', '3.4%', '01.01.201412.01.2021'],\n",
       " 'target': ['Просто накопить']}"
      ]
     },
     "execution_count": 3,
     "metadata": {},
     "output_type": "execute_result"
    }
   ],
   "source": [
    "d = dict({'text':'Не отображается сумма по вкладу',\n",
    "          'Evolution':['01.01.2021'],\n",
    "          'Premium':['01.01.2021'],\n",
    "          'Кредит на личное подсобное хозяйство':['5000000 р', '180 мес', '10000 р'],\n",
    "          'Ипотека на Вторичное жилье':['5000000 руб', '180 мес', '10000 руб'],\n",
    "          'Ипотека на Дом и земельный участок':['5000000 долл', '180 мес', '10000 долл'],\n",
    "          'Просто накопить':['5000000 руб', '3.4%','01.01.2014' '12.01.2021'],\n",
    "          }) \n",
    "trigger(d)"
   ]
  },
  {
   "cell_type": "code",
   "execution_count": 4,
   "metadata": {
    "pycharm": {
     "name": "#%%\n"
    }
   },
   "outputs": [
    {
     "data": {
      "text/plain": [
       "{'text': 'Почему кэшбек по моей карте, где нарисован леопард такой маленький?',\n",
       " 'Evolution': ['01.01.2021'],\n",
       " 'Premium': ['01.01.2021'],\n",
       " 'Кредит на личное подсобное хозяйство': ['5000000 р', '180 мес', '10000 р'],\n",
       " 'Ипотека на Вторичное жилье': ['5000000 руб', '180 мес', '10000 руб'],\n",
       " 'Ипотека на Дом и земельный участок': ['5000000 долл',\n",
       "  '180 мес',\n",
       "  '10000 долл'],\n",
       " 'Просто накопить': ['5000000 руб', '3.4%', '01.01.201412.01.2021'],\n",
       " 'target': ['Evolution']}"
      ]
     },
     "execution_count": 4,
     "metadata": {},
     "output_type": "execute_result"
    }
   ],
   "source": [
    "d = dict({'text':'Почему кэшбек по моей карте, где нарисован леопард такой маленький?',\n",
    "          'Evolution':['01.01.2021'],\n",
    "          'Premium':['01.01.2021'],\n",
    "          'Кредит на личное подсобное хозяйство':['5000000 р', '180 мес', '10000 р'],\n",
    "          'Ипотека на Вторичное жилье':['5000000 руб', '180 мес', '10000 руб'],\n",
    "          'Ипотека на Дом и земельный участок':['5000000 долл', '180 мес', '10000 долл'],\n",
    "          'Просто накопить':['5000000 руб', '3.4%','01.01.2014' '12.01.2021'],\n",
    "          })\n",
    "trigger(d)"
   ]
  },
  {
   "cell_type": "code",
   "execution_count": 5,
   "metadata": {},
   "outputs": [
    {
     "data": {
      "text/plain": [
       "{'text': 'Как закрыть вклад?',\n",
       " 'Evolution': ['01.01.2021'],\n",
       " 'Premium': ['01.01.2021'],\n",
       " 'Кредит на личное подсобное хозяйство': ['5000000 р', '180 мес', '10000 р'],\n",
       " 'Ипотека на Вторичное жилье': ['5000000 руб', '180 мес', '10000 руб'],\n",
       " 'Ипотека на Дом и земельный участок': ['5000000 долл',\n",
       "  '180 мес',\n",
       "  '10000 долл'],\n",
       " 'Просто накопить': ['5000000 руб', '3.4%', '01.01.201412.01.2021'],\n",
       " 'target': ['Просто накопить']}"
      ]
     },
     "execution_count": 5,
     "metadata": {},
     "output_type": "execute_result"
    }
   ],
   "source": [
    "d = dict({'text':'Как закрыть вклад?',\n",
    "          'Evolution':['01.01.2021'],\n",
    "          'Premium':['01.01.2021'],\n",
    "          'Кредит на личное подсобное хозяйство':['5000000 р', '180 мес', '10000 р'],\n",
    "          'Ипотека на Вторичное жилье':['5000000 руб', '180 мес', '10000 руб'],\n",
    "          'Ипотека на Дом и земельный участок':['5000000 долл', '180 мес', '10000 долл'],\n",
    "          'Просто накопить':['5000000 руб', '3.4%','01.01.2014' '12.01.2021'],\n",
    "          })\n",
    "trigger(d)"
   ]
  },
  {
   "cell_type": "code",
   "execution_count": 6,
   "metadata": {
    "jupyter": {
     "outputs_hidden": false
    },
    "pycharm": {
     "name": "#%%\n"
    }
   },
   "outputs": [
    {
     "data": {
      "text/plain": [
       "{'text': 'Начисления по вкладу уверенное будущее ниже чем должно быть.',\n",
       " 'Evolution': ['01.01.2021'],\n",
       " 'Premium': ['01.01.2021'],\n",
       " 'Кредит на личное подсобное хозяйство': ['5000000 р', '180 мес', '10000 р'],\n",
       " 'Ипотека на Вторичное жилье': ['5000000 руб', '180 мес', '10000 руб'],\n",
       " 'Ипотека на Дом и земельный участок': ['5000000 долл',\n",
       "  '180 мес',\n",
       "  '10000 долл'],\n",
       " 'Просто накопить': ['5000000 руб', '3.4%', '01.01.201412.01.2021'],\n",
       " 'Уверенное будущее': ['1000000 руб', '2.4%', '01.01.201512.01.2022'],\n",
       " 'target': 'Уверенное будущее'}"
      ]
     },
     "execution_count": 6,
     "metadata": {},
     "output_type": "execute_result"
    }
   ],
   "source": [
    "d = dict({'text':'Начисления по вкладу уверенное будущее ниже чем должно быть.',\n",
    "          'Evolution':['01.01.2021'],\n",
    "          'Premium':['01.01.2021'],\n",
    "          'Кредит на личное подсобное хозяйство':['5000000 р', '180 мес', '10000 р'],\n",
    "          'Ипотека на Вторичное жилье':['5000000 руб', '180 мес', '10000 руб'],\n",
    "          'Ипотека на Дом и земельный участок':['5000000 долл', '180 мес', '10000 долл'],\n",
    "          'Просто накопить':['5000000 руб', '3.4%','01.01.2014' '12.01.2021'],\n",
    "          'Уверенное будущее':['1000000 руб', '2.4%','01.01.2015' '12.01.2022']\n",
    "          })\n",
    "trigger(d)"
   ]
  },
  {
   "cell_type": "code",
   "execution_count": 7,
   "metadata": {
    "jupyter": {
     "outputs_hidden": false
    },
    "pycharm": {
     "name": "#%%\n"
    }
   },
   "outputs": [
    {
     "data": {
      "text/plain": [
       "{'text': 'Начисления по вкладу там где 1 млн ниже чем должно быть.',\n",
       " 'Evolution': ['01.01.2021'],\n",
       " 'Premium': ['01.01.2021'],\n",
       " 'Кредит на личное подсобное хозяйство': ['5000000 р', '180 мес', '10000 р'],\n",
       " 'Ипотека на Вторичное жилье': ['5000000 руб', '180 мес', '10000 руб'],\n",
       " 'Ипотека на Дом и земельный участок': ['5000000 долл',\n",
       "  '180 мес',\n",
       "  '10000 долл'],\n",
       " 'Просто накопить': ['5000000 руб', '3.4%', '01.01.201412.01.2021'],\n",
       " 'Уверенное будущее': ['1000000 руб', '2.4%', '01.01.201512.01.2022'],\n",
       " 'target': 'Уточните, по какому вкладу Вы хотите получить информацию?'}"
      ]
     },
     "execution_count": 7,
     "metadata": {},
     "output_type": "execute_result"
    }
   ],
   "source": [
    "d = dict({'text':'Начисления по вкладу там где 1 млн ниже чем должно быть.',\n",
    "          'Evolution':['01.01.2021'],\n",
    "          'Premium':['01.01.2021'],\n",
    "          'Кредит на личное подсобное хозяйство':['5000000 р', '180 мес', '10000 р'],\n",
    "          'Ипотека на Вторичное жилье':['5000000 руб', '180 мес', '10000 руб'],\n",
    "          'Ипотека на Дом и земельный участок':['5000000 долл', '180 мес', '10000 долл'],\n",
    "          'Просто накопить':['5000000 руб', '3.4%','01.01.2014' '12.01.2021'],\n",
    "          'Уверенное будущее':['1000000 руб', '2.4%','01.01.2015' '12.01.2022']\n",
    "          })\n",
    "trigger(d)"
   ]
  },
  {
   "cell_type": "code",
   "execution_count": 8,
   "metadata": {
    "jupyter": {
     "outputs_hidden": false
    },
    "pycharm": {
     "name": "#%%\n"
    }
   },
   "outputs": [
    {
     "name": "stdout",
     "output_type": "stream",
     "text": [
      "Client products in dict recognized: [([[5000000, 'RUB'], '4'], 'Просто накопить'), ([[1000000, 'RUB'], '4'], 'Просто накопить')]\n",
      "Lengths of common parameters: [(1, 'Просто накопить'), (1, 'Просто накопить')]\n"
     ]
    },
    {
     "data": {
      "text/plain": [
       "{'text': 'Вклад на 3.4 процента',\n",
       " 'Evolution': ['01.01.2021'],\n",
       " 'Premium': ['01.01.2021'],\n",
       " 'Кредит на личное подсобное хозяйство': ['5000000 р', '180 мес', '10000 р'],\n",
       " 'Ипотека на Вторичное жилье': ['5000000 руб', '180 мес', '10000 руб'],\n",
       " 'Ипотека на Дом и земельный участок': ['5000000 долл',\n",
       "  '180 мес',\n",
       "  '10000 долл'],\n",
       " 'Просто накопить': ['5000000 руб', '3.4%', '01.01.201412.01.2021'],\n",
       " '367 дней Я сам!': ['1000000 руб', '2.4%', '01.01.201512.01.2022'],\n",
       " 'target': 'Уточните, по какому вкладу Вы хотите получить информацию?'}"
      ]
     },
     "execution_count": 8,
     "metadata": {},
     "output_type": "execute_result"
    }
   ],
   "source": [
    "d = dict({'text':'Вклад на 3.4 процента',\n",
    "          'Evolution':['01.01.2021'],\n",
    "          'Premium':['01.01.2021'],\n",
    "          'Кредит на личное подсобное хозяйство':['5000000 р', '180 мес', '10000 р'],\n",
    "          'Ипотека на Вторичное жилье':['5000000 руб', '180 мес', '10000 руб'],\n",
    "          'Ипотека на Дом и земельный участок':['5000000 долл', '180 мес', '10000 долл'],\n",
    "          'Просто накопить':['5000000 руб', '3.4%','01.01.2014' '12.01.2021'],\n",
    "          '367 дней Я сам!':['1000000 руб', '2.4%','01.01.2015' '12.01.2022']\n",
    "          })\n",
    "trigger(d)"
   ]
  },
  {
   "cell_type": "code",
   "execution_count": 9,
   "metadata": {
    "jupyter": {
     "outputs_hidden": false
    },
    "pycharm": {
     "name": "#%%\n"
    }
   },
   "outputs": [
    {
     "name": "stdout",
     "output_type": "stream",
     "text": [
      "Client products in dict recognized: [([[5000000, 'RUB'], 18, [10005, 'RUB']], 'Кредит на личное подсобное хозяйство'), ([[2000, 'USD'], 10, [100, 'USD']], 'Кредит наличными')]\n",
      "Lengths of common parameters: [(0, 'Кредит на личное подсобное хозяйство'), (0, 'Кредит наличными')]\n"
     ]
    },
    {
     "data": {
      "text/plain": [
       "{'text': 'счет с остатком 50$',\n",
       " 'Evolution': ['01.01.2021'],\n",
       " 'Premium': ['01.06.2020'],\n",
       " 'Кредит на личное подсобное хозяйство': ['5000000 р', '18 мес', '10005.56 р'],\n",
       " 'Кредит наличными': ['2000 долл', '10 мес', '100 долл'],\n",
       " 'Ипотека на Вторичное жилье': ['5000000 руб', '180 мес', '10000 руб'],\n",
       " 'Ипотека на Дом и земельный участок': ['5000000 долл',\n",
       "  '18 мес',\n",
       "  '10000 долл'],\n",
       " 'Текущий счет Зарплата': ['01.01.2020', '10000 руб', 'рубль'],\n",
       " 'Текущий счет Переводы и платежи': ['05.05.2020', '50 долл', 'доллар'],\n",
       " 'target': 'Уточните, по какому кредиту Вы хотите получить информацию?'}"
      ]
     },
     "execution_count": 9,
     "metadata": {},
     "output_type": "execute_result"
    }
   ],
   "source": [
    "d = dict({'text':'счет с остатком 50$',\n",
    "          'Evolution':['01.01.2021'],\n",
    "          'Premium':['01.06.2020'],\n",
    "          'Кредит на личное подсобное хозяйство':['5000000 р', '18 мес', '10005.56 р'],\n",
    "          'Кредит наличными':['2000 долл', '10 мес', '100 долл'],\n",
    "          'Ипотека на Вторичное жилье':['5000000 руб', '180 мес', '10000 руб'],\n",
    "          'Ипотека на Дом и земельный участок':['5000000 долл', '18 мес', '10000 долл'],\n",
    "          'Текущий счет Зарплата': ['01.01.2020','10000 руб', 'рубль'],\n",
    "         'Текущий счет Переводы и платежи': ['05.05.2020','50 долл', 'доллар'] })\n",
    "trigger(d)"
   ]
  },
  {
   "cell_type": "code",
   "execution_count": 10,
   "metadata": {
    "jupyter": {
     "outputs_hidden": false
    },
    "pycharm": {
     "name": "#%%\n"
    }
   },
   "outputs": [
    {
     "data": {
      "text/plain": [
       "{'text': 'счет открытый в мае этого года',\n",
       " 'Evolution': ['01.01.2021'],\n",
       " 'Premium': ['01.06.2020'],\n",
       " 'Кредит на личное подсобное хозяйство': ['5000000 р', '18 мес', '10005.56 р'],\n",
       " 'Кредит наличными': ['2000 долл', '10 мес', '100 долл'],\n",
       " 'Ипотека на Вторичное жилье': ['5000000 руб', '180 мес', '10000 руб'],\n",
       " 'Ипотека на Дом и земельный участок': ['5000000 долл',\n",
       "  '18 мес',\n",
       "  '10000 долл'],\n",
       " 'Текущий счет Зарплата': ['01.01.2020', '10000 руб', 'рубль'],\n",
       " 'Текущий счет Переводы и платежи': ['05.05.2020', '50 долл', 'доллар'],\n",
       " 'target': 'Текущий счет Переводы и платежи'}"
      ]
     },
     "execution_count": 10,
     "metadata": {},
     "output_type": "execute_result"
    }
   ],
   "source": [
    "d = dict({'text':'счет открытый в мае этого года',\n",
    "          'Evolution':['01.01.2021'],\n",
    "          'Premium':['01.06.2020'],\n",
    "          'Кредит на личное подсобное хозяйство':['5000000 р', '18 мес', '10005.56 р'],\n",
    "          'Кредит наличными':['2000 долл', '10 мес', '100 долл'],\n",
    "          'Ипотека на Вторичное жилье':['5000000 руб', '180 мес', '10000 руб'],\n",
    "          'Ипотека на Дом и земельный участок':['5000000 долл', '18 мес', '10000 долл'],\n",
    "          'Текущий счет Зарплата': ['01.01.2020','10000 руб', 'рубль'],\n",
    "          'Текущий счет Переводы и платежи': ['05.05.2020','50 долл', 'доллар'] })\n",
    "\n",
    "trigger(d)"
   ]
  },
  {
   "cell_type": "code",
   "execution_count": 11,
   "metadata": {
    "jupyter": {
     "outputs_hidden": false
    },
    "pycharm": {
     "name": "#%%\n"
    }
   },
   "outputs": [
    {
     "data": {
      "text/plain": [
       "{'text': 'счет открытый в январе прошлого года',\n",
       " 'Evolution': ['01.01.2021'],\n",
       " 'Premium': ['01.06.2020'],\n",
       " 'Кредит на личное подсобное хозяйство': ['5000000 р', '18 мес', '10005.56 р'],\n",
       " 'Кредит наличными': ['2000 долл', '10 мес', '100 долл'],\n",
       " 'Ипотека на Вторичное жилье': ['5000000 руб', '180 мес', '10000 руб'],\n",
       " 'Ипотека на Дом и земельный участок': ['5000000 долл',\n",
       "  '18 мес',\n",
       "  '10000 долл'],\n",
       " 'Текущий счет Зарплата': ['01.01.2019', '10000 руб', 'рубль'],\n",
       " 'Текущий счет Переводы и платежи': ['05.05.2020', '50 долл', 'доллар'],\n",
       " 'target': 'Текущий счет Зарплата'}"
      ]
     },
     "execution_count": 11,
     "metadata": {},
     "output_type": "execute_result"
    }
   ],
   "source": [
    "d = dict({'text':'счет открытый в январе прошлого года',\n",
    "          'Evolution':['01.01.2021'],\n",
    "          'Premium':['01.06.2020'],\n",
    "          'Кредит на личное подсобное хозяйство':['5000000 р', '18 мес', '10005.56 р'],\n",
    "          'Кредит наличными':['2000 долл', '10 мес', '100 долл'],\n",
    "          'Ипотека на Вторичное жилье':['5000000 руб', '180 мес', '10000 руб'],\n",
    "          'Ипотека на Дом и земельный участок':['5000000 долл', '18 мес', '10000 долл'],\n",
    "          'Текущий счет Зарплата': ['01.01.2019','10000 руб', 'рубль'],\n",
    "          'Текущий счет Переводы и платежи': ['05.05.2020','50 долл', 'доллар'] })\n",
    "trigger(d)"
   ]
  },
  {
   "cell_type": "code",
   "execution_count": 12,
   "metadata": {
    "jupyter": {
     "outputs_hidden": false
    },
    "pycharm": {
     "name": "#%%\n"
    }
   },
   "outputs": [
    {
     "name": "stdout",
     "output_type": "stream",
     "text": [
      "Client products in dict recognized: [([[2019, 1], [10000, 'RUB'], 'рубль'], 'Текущий счет Зарплата'), ([[2020, 5], [50, 'USD'], 'доллар'], 'Текущий счет Переводы и платежи')]\n",
      "Lengths of common parameters: [(0, 'Текущий счет Зарплата'), (0, 'Текущий счет Переводы и платежи')]\n"
     ]
    },
    {
     "data": {
      "text/plain": [
       "{'text': 'счет в рублях',\n",
       " 'Evolution': ['01.01.2021'],\n",
       " 'Premium': ['01.06.2020'],\n",
       " 'Кредит на личное подсобное хозяйство': ['5000000 р', '18 мес', '10005.56 р'],\n",
       " 'Кредит наличными': ['2000 долл', '10 мес', '100 долл'],\n",
       " 'Ипотека на Вторичное жилье': ['5000000 руб', '180 мес', '10000 руб'],\n",
       " 'Ипотека на Дом и земельный участок': ['5000000 долл',\n",
       "  '18 мес',\n",
       "  '10000 долл'],\n",
       " 'Текущий счет Зарплата': ['01.01.2019', '10000 руб', 'рубль'],\n",
       " 'Текущий счет Переводы и платежи': ['05.05.2020', '50 долл', 'доллар'],\n",
       " 'target': 'Уточните, по какому текущему счету Вы хотите получить информацию?'}"
      ]
     },
     "execution_count": 12,
     "metadata": {},
     "output_type": "execute_result"
    }
   ],
   "source": [
    "d = dict({'text':'счет в рублях',\n",
    "          'Evolution':['01.01.2021'],\n",
    "          'Premium':['01.06.2020'],\n",
    "          'Кредит на личное подсобное хозяйство':['5000000 р', '18 мес', '10005.56 р'],\n",
    "          'Кредит наличными':['2000 долл', '10 мес', '100 долл'],\n",
    "          'Ипотека на Вторичное жилье':['5000000 руб', '180 мес', '10000 руб'],\n",
    "          'Ипотека на Дом и земельный участок':['5000000 долл', '18 мес', '10000 долл'],\n",
    "          'Текущий счет Зарплата': ['01.01.2019','10000 руб', 'рубль'],\n",
    "          'Текущий счет Переводы и платежи': ['05.05.2020','50 долл', 'доллар'] })\n",
    "trigger(d)"
   ]
  },
  {
   "cell_type": "code",
   "execution_count": 13,
   "metadata": {
    "pycharm": {
     "name": "#%%\n"
    }
   },
   "outputs": [
    {
     "data": {
      "text/plain": [
       "{'text': 'карта до июня',\n",
       " 'Evolution': ['01.01.2021'],\n",
       " 'Premium': ['01.06.2020'],\n",
       " 'Кредит на личное подсобное хозяйство': ['5000000 р', '18 мес', '10005.56 р'],\n",
       " 'Кредит наличными': ['2000 долл', '10 мес', '100 долл'],\n",
       " 'Ипотека на Вторичное жилье': ['5000000 руб', '180 мес', '10000 руб'],\n",
       " 'Ипотека на Дом и земельный участок': ['5000000 долл',\n",
       "  '18 мес',\n",
       "  '10000 долл'],\n",
       " 'Текущий счет Зарплата': ['01.01.2019', '10000 руб', 'рубль'],\n",
       " 'Текущий счет Переводы и платежи': ['05.05.2020', '50 долл', 'доллар'],\n",
       " 'target': 'Уточните, по какой карте Вы хотите получить информацию?'}"
      ]
     },
     "execution_count": 13,
     "metadata": {},
     "output_type": "execute_result"
    }
   ],
   "source": [
    "d = dict({'text':'карта до июня',\n",
    "          'Evolution':['01.01.2021'],\n",
    "          'Premium':['01.06.2020'],\n",
    "          'Кредит на личное подсобное хозяйство':['5000000 р', '18 мес', '10005.56 р'],\n",
    "          'Кредит наличными':['2000 долл', '10 мес', '100 долл'],\n",
    "          'Ипотека на Вторичное жилье':['5000000 руб', '180 мес', '10000 руб'],\n",
    "          'Ипотека на Дом и земельный участок':['5000000 долл', '18 мес', '10000 долл'],\n",
    "          'Текущий счет Зарплата': ['01.01.2019','10000 руб', 'рубль'],\n",
    "          'Текущий счет Переводы и платежи': ['05.05.2020','50 долл', 'доллар'] })\n",
    "trigger(d)"
   ]
  },
  {
   "cell_type": "markdown",
   "metadata": {},
   "source": [
    "## Вычисление accuracy"
   ]
  },
  {
   "cell_type": "code",
   "execution_count": 2,
   "metadata": {},
   "outputs": [
    {
     "name": "stderr",
     "output_type": "stream",
     "text": [
      "C:\\Users\\darkj\\anaconda3\\lib\\site-packages\\ipykernel_launcher.py:34: SettingWithCopyWarning: \n",
      "A value is trying to be set on a copy of a slice from a DataFrame\n",
      "\n",
      "See the caveats in the documentation: http://pandas.pydata.org/pandas-docs/stable/user_guide/indexing.html#returning-a-view-versus-a-copy\n",
      "C:\\Users\\darkj\\anaconda3\\lib\\site-packages\\pandas\\core\\indexing.py:205: SettingWithCopyWarning: \n",
      "A value is trying to be set on a copy of a slice from a DataFrame\n",
      "\n",
      "See the caveats in the documentation: http://pandas.pydata.org/pandas-docs/stable/user_guide/indexing.html#returning-a-view-versus-a-copy\n",
      "  self._setitem_with_indexer(indexer, value)\n"
     ]
    },
    {
     "name": "stdout",
     "output_type": "stream",
     "text": [
      "Client products in dict recognized: [([[5000000, 'USD'], 180, [10000, 'USD']], 'Кредит наличными'), ([[5000000, 'EUR'], 180, [10000, 'EUR']], 'Кредит под залог недвижимости'), ([[5000000, 'RUB'], 180, [10000, 'RUB']], 'Кредит (Рефинансирование)'), ([[5000000, 'RUB'], 180, [10000, 'RUB']], 'Кредит на личное подсобное хозяйство')]\n",
      "Lengths of common parameters: [(0, 'Кредит наличными'), (0, 'Кредит под залог недвижимости'), (0, 'Кредит (Рефинансирование)'), (0, 'Кредит на личное подсобное хозяйство')]\n",
      "Client products in dict recognized: [([[2019, 1], [10000, 'RUB'], 'рубль'], 'Текущий счет Зарплата'), ([[2020, 5], [50, 'USD'], 'доллар'], 'Текущий счет Переводы и платежи')]\n",
      "Lengths of common parameters: [(0, 'Текущий счет Зарплата'), (0, 'Текущий счет Переводы и платежи')]\n",
      "Client products in dict recognized: [([[5000000, 'USD'], 180, [10000, 'USD']], 'Кредит наличными'), ([[5000000, 'EUR'], 180, [10000, 'EUR']], 'Кредит под залог недвижимости'), ([[5000000, 'RUB'], 180, [10000, 'RUB']], 'Кредит (Рефинансирование)'), ([[5000000, 'RUB'], 180, [10000, 'RUB']], 'Кредит на личное подсобное хозяйство')]\n",
      "Lengths of common parameters: [(0, 'Кредит наличными'), (0, 'Кредит под залог недвижимости'), (0, 'Кредит (Рефинансирование)'), (0, 'Кредит на личное подсобное хозяйство')]\n"
     ]
    }
   ],
   "source": [
    "test_data = pd.read_csv('test_2.csv', sep=';')\n",
    "\n",
    "test_data['predict']=0\n",
    "\n",
    "for i in range(len(test_data)):\n",
    "    #предполагаем, что у клиента есть все продукты\n",
    "    d = dict({'text':test_data['text'][i],\n",
    "              'Aurum':['01.01.2021'],\n",
    "             'Generation':['01.01.2021'],\n",
    "             'Evolution':['01.01.2021'],\n",
    "             'Premium':['01.01.2021'],\n",
    "             'Mir':['01.01.2021'],\n",
    "             'Emotion':['01.01.2021'],\n",
    "             'Кредит наличными':['5000000 долл', '180 мес', '10000 долл'],\n",
    "             'Кредит под залог недвижимости':['5000000 евро', '180 мес', '10000 евро'],\n",
    "             'Кредит (Рефинансирование)':['5000000 руб', '180 мес', '10000 руб'],\n",
    "             'Кредит на личное подсобное хозяйство':['5000000 р', '180 мес', '10000 р'],\n",
    "             'Ипотека на Вторичное жилье':['5000000 руб', '180 мес', '10000 руб'],\n",
    "             'Ипотека на Новостройки с господдержкой':['5000000 руб', '180 мес', '10000 руб'],\n",
    "             'Ипотека на Новостройки':['5000000 руб', '180 мес', '10000 руб'],\n",
    "             'Рефинансирование ипотеки':['5000000 руб', '180 мес', '10000 руб'],\n",
    "             'Ипотека Господдержка для семей с детьми':['5000000 руб', '180 мес', '10000 руб'],\n",
    "             'Ипотека на Коммерческую недвижимость':['5000000 руб', '180 мес', '10000 руб'],\n",
    "             'Ипотека на Дом и земельный участок':['5000000 руб', '180 мес', '10000 руб'],\n",
    "            'Текущий счет Зарплата': ['01.01.2019','10000 руб', 'рубль'],\n",
    "            'Текущий счет Переводы и платежи': ['05.05.2020','50 долл', 'доллар'],\n",
    "              'Просто накопить':['5000000 руб', '3.4%','01.01.2014' '12.01.2021'],\n",
    "            '367 дней Я сам!':['1000000 руб', '2.4%','01.01.2015' '12.01.2022'],\n",
    "              'Просто преумножить':['1000000 руб', '2.4%','01.01.2015' '12.01.2022'],\n",
    "              'Просто управлять':['1000000 руб', '2.4%','01.01.2015' '12.01.2022'],\n",
    "              'Просто поймать момент':['1000000 руб', '2.4%','01.01.2015' '12.01.2022'],\n",
    "              'Уверенное будущее':['1000000 руб', '2.4%','01.01.2015' '12.01.2022']})  \n",
    "    \n",
    "    test_data['predict'][i] = trigger(d)['target']  "
   ]
  },
  {
   "cell_type": "code",
   "execution_count": 3,
   "metadata": {},
   "outputs": [
    {
     "data": {
      "text/html": [
       "<div>\n",
       "<style scoped>\n",
       "    .dataframe tbody tr th:only-of-type {\n",
       "        vertical-align: middle;\n",
       "    }\n",
       "\n",
       "    .dataframe tbody tr th {\n",
       "        vertical-align: top;\n",
       "    }\n",
       "\n",
       "    .dataframe thead th {\n",
       "        text-align: right;\n",
       "    }\n",
       "</style>\n",
       "<table border=\"1\" class=\"dataframe\">\n",
       "  <thead>\n",
       "    <tr style=\"text-align: right;\">\n",
       "      <th></th>\n",
       "      <th>text</th>\n",
       "      <th>product</th>\n",
       "      <th>predict</th>\n",
       "    </tr>\n",
       "  </thead>\n",
       "  <tbody>\n",
       "    <tr>\n",
       "      <th>0</th>\n",
       "      <td>Здравствуйте, какой у Карты процент на остаток?</td>\n",
       "      <td>Уточните, по какой карте Вы хотите получить ин...</td>\n",
       "      <td>Уточните, по какой карте Вы хотите получить ин...</td>\n",
       "    </tr>\n",
       "    <tr>\n",
       "      <th>1</th>\n",
       "      <td>Мне дали карту 14 декабря, вопрос: с какого чи...</td>\n",
       "      <td>Уточните, по какой карте Вы хотите получить ин...</td>\n",
       "      <td>Уточните, по какой карте Вы хотите получить ин...</td>\n",
       "    </tr>\n",
       "    <tr>\n",
       "      <th>2</th>\n",
       "      <td>Добрый день! На мою карту evolution был начисл...</td>\n",
       "      <td>Evolution</td>\n",
       "      <td>Evolution</td>\n",
       "    </tr>\n",
       "    <tr>\n",
       "      <th>3</th>\n",
       "      <td>Здравствуйте. У меня карта evolution. Забыл пи...</td>\n",
       "      <td>Evolution</td>\n",
       "      <td>Evolution</td>\n",
       "    </tr>\n",
       "    <tr>\n",
       "      <th>4</th>\n",
       "      <td>Добрый день, подскажите пожалуйста как я могу ...</td>\n",
       "      <td>Уточните, по какой карте Вы хотите получить ин...</td>\n",
       "      <td>Уточните, по какому банковскому продукту Вы хо...</td>\n",
       "    </tr>\n",
       "    <tr>\n",
       "      <th>...</th>\n",
       "      <td>...</td>\n",
       "      <td>...</td>\n",
       "      <td>...</td>\n",
       "    </tr>\n",
       "    <tr>\n",
       "      <th>100</th>\n",
       "      <td>Доброе утро! Вопрос по вкладу \"Надёжное будуще...</td>\n",
       "      <td>Уверенное будущее</td>\n",
       "      <td>Уверенное будущее</td>\n",
       "    </tr>\n",
       "    <tr>\n",
       "      <th>101</th>\n",
       "      <td>почему нет возможности пополнить валютный вкла...</td>\n",
       "      <td>Уточните, по какому вкладу Вы хотите получить ...</td>\n",
       "      <td>Уточните, по какому вкладу Вы хотите получить ...</td>\n",
       "    </tr>\n",
       "    <tr>\n",
       "      <th>102</th>\n",
       "      <td>Добрый день. Не пополняется вклад</td>\n",
       "      <td>Уточните, по какому вкладу Вы хотите получить ...</td>\n",
       "      <td>Уточните, по какому вкладу Вы хотите получить ...</td>\n",
       "    </tr>\n",
       "    <tr>\n",
       "      <th>103</th>\n",
       "      <td>Добрый день, хочу перекинуть деньги со счета \"...</td>\n",
       "      <td>Просто поймать момент</td>\n",
       "      <td>Просто поймать момент</td>\n",
       "    </tr>\n",
       "    <tr>\n",
       "      <th>104</th>\n",
       "      <td>Открыла вклад просто поймать момент на 10000. ...</td>\n",
       "      <td>Просто поймать момент</td>\n",
       "      <td>Просто поймать момент</td>\n",
       "    </tr>\n",
       "  </tbody>\n",
       "</table>\n",
       "<p>105 rows × 3 columns</p>\n",
       "</div>"
      ],
      "text/plain": [
       "                                                  text  \\\n",
       "0      Здравствуйте, какой у Карты процент на остаток?   \n",
       "1    Мне дали карту 14 декабря, вопрос: с какого чи...   \n",
       "2    Добрый день! На мою карту evolution был начисл...   \n",
       "3    Здравствуйте. У меня карта evolution. Забыл пи...   \n",
       "4    Добрый день, подскажите пожалуйста как я могу ...   \n",
       "..                                                 ...   \n",
       "100  Доброе утро! Вопрос по вкладу \"Надёжное будуще...   \n",
       "101  почему нет возможности пополнить валютный вкла...   \n",
       "102                  Добрый день. Не пополняется вклад   \n",
       "103  Добрый день, хочу перекинуть деньги со счета \"...   \n",
       "104  Открыла вклад просто поймать момент на 10000. ...   \n",
       "\n",
       "                                               product  \\\n",
       "0    Уточните, по какой карте Вы хотите получить ин...   \n",
       "1    Уточните, по какой карте Вы хотите получить ин...   \n",
       "2                                            Evolution   \n",
       "3                                            Evolution   \n",
       "4    Уточните, по какой карте Вы хотите получить ин...   \n",
       "..                                                 ...   \n",
       "100                                  Уверенное будущее   \n",
       "101  Уточните, по какому вкладу Вы хотите получить ...   \n",
       "102  Уточните, по какому вкладу Вы хотите получить ...   \n",
       "103                              Просто поймать момент   \n",
       "104                              Просто поймать момент   \n",
       "\n",
       "                                               predict  \n",
       "0    Уточните, по какой карте Вы хотите получить ин...  \n",
       "1    Уточните, по какой карте Вы хотите получить ин...  \n",
       "2                                            Evolution  \n",
       "3                                            Evolution  \n",
       "4    Уточните, по какому банковскому продукту Вы хо...  \n",
       "..                                                 ...  \n",
       "100                                  Уверенное будущее  \n",
       "101  Уточните, по какому вкладу Вы хотите получить ...  \n",
       "102  Уточните, по какому вкладу Вы хотите получить ...  \n",
       "103                              Просто поймать момент  \n",
       "104                              Просто поймать момент  \n",
       "\n",
       "[105 rows x 3 columns]"
      ]
     },
     "execution_count": 3,
     "metadata": {},
     "output_type": "execute_result"
    }
   ],
   "source": [
    "test_data"
   ]
  },
  {
   "cell_type": "code",
   "execution_count": 4,
   "metadata": {},
   "outputs": [
    {
     "data": {
      "text/plain": [
       "0.8952380952380953"
      ]
     },
     "execution_count": 4,
     "metadata": {},
     "output_type": "execute_result"
    }
   ],
   "source": [
    "#считаем точность\n",
    "\n",
    "from sklearn.metrics import accuracy_score\n",
    "accuracy_score(test_data['product'], test_data['predict'])"
   ]
  },
  {
   "cell_type": "code",
   "execution_count": null,
   "metadata": {
    "pycharm": {
     "name": "#%%\n"
    }
   },
   "outputs": [],
   "source": [
    "\n"
   ]
  }
 ],
 "metadata": {
  "kernelspec": {
   "display_name": "Python 3",
   "language": "python",
   "name": "python3"
  },
  "language_info": {
   "codemirror_mode": {
    "name": "ipython",
    "version": 3
   },
   "file_extension": ".py",
   "mimetype": "text/x-python",
   "name": "python",
   "nbconvert_exporter": "python",
   "pygments_lexer": "ipython3",
   "version": "3.7.6"
  }
 },
 "nbformat": 4,
 "nbformat_minor": 4
}
